{
 "cells": [
  {
   "cell_type": "markdown",
   "id": "45aa0e09-1368-4d18-9ec6-91e0d5c08896",
   "metadata": {},
   "source": [
    "## Q1. Create one variable containing following type of data:\n",
    "## (i) string (ii) list (iii) float (iv) tuple"
   ]
  },
  {
   "cell_type": "code",
   "execution_count": 1,
   "id": "f3b4d533-8135-44bc-8e41-e771b91f3908",
   "metadata": {},
   "outputs": [],
   "source": [
    "## Ans:- \n",
    "variable_1=\"shubham\",[1,2,3,4],2+3j,(5,6,7,8)"
   ]
  },
  {
   "cell_type": "code",
   "execution_count": 2,
   "id": "8edc3a4b-8039-42aa-a80e-5b8b7515237b",
   "metadata": {},
   "outputs": [
    {
     "data": {
      "text/plain": [
       "('shubham', [1, 2, 3, 4], (2+3j), (5, 6, 7, 8))"
      ]
     },
     "execution_count": 2,
     "metadata": {},
     "output_type": "execute_result"
    }
   ],
   "source": [
    "variable_1"
   ]
  },
  {
   "cell_type": "markdown",
   "id": "5c8fe9ef-09cd-4e3e-8b04-b2e1c52bc317",
   "metadata": {},
   "source": [
    "## Q2. Given are some following variables containing data:\n",
    "## (i)\tvar1 = ‘ ‘ (ii)\tvar2 = ‘[ DS , ML , Python]’ (iii)\tvar3 = [ ‘DS’ , ’ML’ , ‘Python’ ] (iv)\tvar4 = 1.\n",
    "## What will be the data type of the above given variable."
   ]
  },
  {
   "cell_type": "code",
   "execution_count": 6,
   "id": "a7dff918-b453-4103-8790-5bce1006f315",
   "metadata": {},
   "outputs": [
    {
     "name": "stdout",
     "output_type": "stream",
     "text": [
      "The data type of var1: <class 'str'>\n",
      "The data type of var2: <class 'str'>\n",
      "The data type of var3: <class 'list'>\n",
      "The data type of var4: <class 'int'>\n"
     ]
    }
   ],
   "source": [
    "## Ans:-\n",
    "var1 = ' '\n",
    "var2 = '[ DS , ML , Python]'\n",
    "var3 = [ 'DS' , 'ML' , 'Python' ]\n",
    "var4 = 1\n",
    "print(\"The data type of var1:\", type(var1))\n",
    "print(\"The data type of var2:\", type(var2))\n",
    "print(\"The data type of var3:\", type(var3))\n",
    "print(\"The data type of var4:\", type(var4))"
   ]
  },
  {
   "cell_type": "markdown",
   "id": "fb308bba-ec0d-4453-b3b0-6aea9ffc60be",
   "metadata": {},
   "source": [
    "## Q3. Explain the use of the following operators using an example:\n",
    "## (i)\t/     (ii)\t%      (iii)\t//       (iv)\t**"
   ]
  },
  {
   "cell_type": "code",
   "execution_count": 1,
   "id": "d3f41438-0b65-4592-b21e-ba8b32c50872",
   "metadata": {},
   "outputs": [
    {
     "data": {
      "text/plain": [
       "0.8"
      ]
     },
     "execution_count": 1,
     "metadata": {},
     "output_type": "execute_result"
    }
   ],
   "source": [
    "## Ans:-\n",
    "## (i) / operator gives true division value. For Example:\n",
    "a=4\n",
    "b=5\n",
    "a/b"
   ]
  },
  {
   "cell_type": "code",
   "execution_count": 5,
   "id": "59d3306d-848a-4041-a6cd-df89f1c7b9e3",
   "metadata": {},
   "outputs": [
    {
     "data": {
      "text/plain": [
       "2"
      ]
     },
     "execution_count": 5,
     "metadata": {},
     "output_type": "execute_result"
    }
   ],
   "source": [
    "## (ii) % is a modulo operator. It gives remainder value of any function. For Example:\n",
    "c=22\n",
    "d=10\n",
    "c%d"
   ]
  },
  {
   "cell_type": "code",
   "execution_count": 7,
   "id": "9aef4bb1-eec2-4d65-a839-f6307bf0b9f9",
   "metadata": {},
   "outputs": [
    {
     "data": {
      "text/plain": [
       "4"
      ]
     },
     "execution_count": 7,
     "metadata": {},
     "output_type": "execute_result"
    }
   ],
   "source": [
    "## (iii) // is a floor division. It gives interger value of a funtion. For Example:\n",
    "e=100\n",
    "f=21\n",
    "e//f"
   ]
  },
  {
   "cell_type": "code",
   "execution_count": 8,
   "id": "d25f5dd0-f125-4132-86f9-f6e37e17274b",
   "metadata": {},
   "outputs": [
    {
     "data": {
      "text/plain": [
       "125"
      ]
     },
     "execution_count": 8,
     "metadata": {},
     "output_type": "execute_result"
    }
   ],
   "source": [
    "## (iv) ** is an power operator. For Example:\n",
    "g=5\n",
    "h=3\n",
    "g**h"
   ]
  },
  {
   "cell_type": "markdown",
   "id": "6ad13db9-3697-41de-8797-18dbe1506497",
   "metadata": {},
   "source": [
    "## Q4. Create a list of length 10 of your choice containing multiple types of data. Using for loop print the element and its data type."
   ]
  },
  {
   "cell_type": "code",
   "execution_count": 9,
   "id": "6114b5c5-18e8-4998-ac92-deb34f86dce7",
   "metadata": {},
   "outputs": [
    {
     "data": {
      "text/plain": [
       "10"
      ]
     },
     "execution_count": 9,
     "metadata": {},
     "output_type": "execute_result"
    }
   ],
   "source": [
    "## Ans:-\n",
    "lst_1=[\"Start\",2,3,4,5,45.45,5+6j,(1,2,3),86,\"Finish\"]\n",
    "len(lst_1)"
   ]
  },
  {
   "cell_type": "code",
   "execution_count": 14,
   "id": "5b41f64a-62ba-4991-8991-3e1a713e9ae5",
   "metadata": {},
   "outputs": [
    {
     "name": "stdout",
     "output_type": "stream",
     "text": [
      "data type of element  Start is  <class 'str'>  \n",
      "data type of element  2 is  <class 'int'>  \n",
      "data type of element  3 is  <class 'int'>  \n",
      "data type of element  4 is  <class 'int'>  \n",
      "data type of element  5 is  <class 'int'>  \n",
      "data type of element  45.45 is  <class 'float'>  \n",
      "data type of element  (5+6j) is  <class 'complex'>  \n",
      "data type of element  (1, 2, 3) is  <class 'tuple'>  \n",
      "data type of element  86 is  <class 'int'>  \n",
      "data type of element  Finish is  <class 'str'>  \n"
     ]
    }
   ],
   "source": [
    "for i in lst_1:\n",
    "    print(f\"data type of element  {i} is  {type(i)}  \")"
   ]
  },
  {
   "cell_type": "markdown",
   "id": "c5be4029-3ac9-4db2-b09b-5420828fe798",
   "metadata": {},
   "source": [
    "## Q5. Using a while loop, verify if the number A is purely divisible by number B and if so then how many times it can be divisible."
   ]
  },
  {
   "cell_type": "code",
   "execution_count": 7,
   "id": "9b2dcd83-bfa4-4665-bdf4-dd7a346a25bc",
   "metadata": {},
   "outputs": [
    {
     "name": "stdin",
     "output_type": "stream",
     "text": [
      " 66\n",
      " 11\n"
     ]
    },
    {
     "name": "stdout",
     "output_type": "stream",
     "text": [
      "A is purely divisible 6.0 times by B\n"
     ]
    }
   ],
   "source": [
    "## Ans:- \n",
    "a=int(input())\n",
    "b=int(input())\n",
    "i=0\n",
    "if a%b==0:\n",
    "    while b*i==a:\n",
    "        i=i+1\n",
    "    print(f\"A is purely divisible {a/b} times by B\")\n",
    "else:\n",
    "    print(\"A is not Divisible by B\")"
   ]
  },
  {
   "cell_type": "markdown",
   "id": "9221785e-20e4-4613-85ff-6eb2c2763ac4",
   "metadata": {},
   "source": [
    "## Q6. Create a list containing 25 int type data. Using for loop and if-else condition print if the element is divisible by 3 or not."
   ]
  },
  {
   "cell_type": "code",
   "execution_count": 27,
   "id": "5caf83b3-92fd-4b61-a71d-a282d8e2f328",
   "metadata": {},
   "outputs": [
    {
     "name": "stdout",
     "output_type": "stream",
     "text": [
      "3\n",
      "6\n",
      "9\n",
      "12\n",
      "15\n",
      "18\n",
      "21\n",
      "24\n"
     ]
    }
   ],
   "source": [
    "## Ans:-\n",
    "l=list(range(1,26))\n",
    "for i in l:\n",
    "    if i%3==0:\n",
    "        print(i)\n",
    "    else:\n",
    "        pass"
   ]
  },
  {
   "cell_type": "markdown",
   "id": "6b328739-a76e-4e0d-8176-f112d782434c",
   "metadata": {},
   "source": [
    "## Q7. What do you understand about mutable and immutable data types? Give examples for both showing this property."
   ]
  },
  {
   "cell_type": "code",
   "execution_count": 30,
   "id": "6e5e3c9d-b63e-44fb-9d79-d7515da73091",
   "metadata": {},
   "outputs": [
    {
     "data": {
      "text/plain": [
       "[12, 22, 34, 5, 677, 43]"
      ]
     },
     "execution_count": 30,
     "metadata": {},
     "output_type": "execute_result"
    }
   ],
   "source": [
    "## Ans:-\n",
    "## A mutable object can be change after it is created.\n",
    "## Example:- List,Set,Dictionary\n",
    "lst_1=[1,22,34,5,677,43]\n",
    "lst_1[0]=12\n",
    "lst_1"
   ]
  },
  {
   "cell_type": "code",
   "execution_count": 32,
   "id": "beebfa36-130d-48ea-a38f-09b7f82f2af2",
   "metadata": {},
   "outputs": [
    {
     "ename": "TypeError",
     "evalue": "'str' object does not support item assignment",
     "output_type": "error",
     "traceback": [
      "\u001b[0;31m---------------------------------------------------------------------------\u001b[0m",
      "\u001b[0;31mTypeError\u001b[0m                                 Traceback (most recent call last)",
      "Cell \u001b[0;32mIn[32], line 4\u001b[0m\n\u001b[1;32m      1\u001b[0m \u001b[38;5;66;03m## A immutable object cannot be change after it is created.\u001b[39;00m\n\u001b[1;32m      2\u001b[0m \u001b[38;5;66;03m## Example:- tuples, int, float, bool, etc.\u001b[39;00m\n\u001b[1;32m      3\u001b[0m str_1\u001b[38;5;241m=\u001b[39m\u001b[38;5;124m\"\u001b[39m\u001b[38;5;124mShubham\u001b[39m\u001b[38;5;124m\"\u001b[39m\n\u001b[0;32m----> 4\u001b[0m \u001b[43mstr_1\u001b[49m\u001b[43m[\u001b[49m\u001b[38;5;241;43m3\u001b[39;49m\u001b[43m]\u001b[49m\u001b[38;5;241m=\u001b[39m\u001b[38;5;124m\"\u001b[39m\u001b[38;5;124mm\u001b[39m\u001b[38;5;124m\"\u001b[39m\n\u001b[1;32m      5\u001b[0m str_1\n",
      "\u001b[0;31mTypeError\u001b[0m: 'str' object does not support item assignment"
     ]
    }
   ],
   "source": [
    "## A immutable object cannot be change after it is created.\n",
    "## Example:- tuples, int, float, bool, etc.\n",
    "str_1=\"Shubham\"\n",
    "str_1[3]=\"m\"\n",
    "str_1"
   ]
  }
 ],
 "metadata": {
  "kernelspec": {
   "display_name": "Python 3 (ipykernel)",
   "language": "python",
   "name": "python3"
  },
  "language_info": {
   "codemirror_mode": {
    "name": "ipython",
    "version": 3
   },
   "file_extension": ".py",
   "mimetype": "text/x-python",
   "name": "python",
   "nbconvert_exporter": "python",
   "pygments_lexer": "ipython3",
   "version": "3.10.8"
  }
 },
 "nbformat": 4,
 "nbformat_minor": 5
}
