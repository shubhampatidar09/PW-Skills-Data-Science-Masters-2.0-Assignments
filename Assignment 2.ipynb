{
 "cells": [
  {
   "cell_type": "markdown",
   "id": "606059a4-4ba5-4004-9378-aaf3917c9111",
   "metadata": {},
   "source": [
    "## Q1. How do you comment code in Python? What are the different types of comments?"
   ]
  },
  {
   "cell_type": "markdown",
   "id": "3c58470c-03ef-4a5b-909a-165da0174125",
   "metadata": {},
   "source": [
    "Ans:- Comments in Python is the inclusion of short descriptions along with the code to increase its readability. A developer uses them to write his or her thought process while writing the code. It explains the basic logic behind why a particular line of code was written. They are just meant for the coders themselves or other developers to understand a piece of code, especially since the Python interpreter completely ignores comments in Python.\n",
    "Comments in Python are identified with a hash symbol, #, and extend to the end of the line. Hash characters in a string are not considered comments. \n",
    "\n",
    "Different Types of Comments in Python are:-\n",
    "1. Single-Line Comments\n",
    "Single-line comments begin with the “#” character. Anything that is written in a single line after ‘#’ or '##' is considered as a comment. The syntax for writing single-line comments is:"
   ]
  },
  {
   "cell_type": "code",
   "execution_count": 9,
   "id": "f04f985c-b806-4107-a1e8-8983b0f36362",
   "metadata": {},
   "outputs": [],
   "source": [
    "# Example of single line comment"
   ]
  },
  {
   "cell_type": "markdown",
   "id": "2315414d-0281-4f2c-9ed0-4fc5cbe36265",
   "metadata": {},
   "source": [
    "2. Multi-Line Comments\n",
    "Python does not support multi-line comments. However, there are multiple ways to overcome this issue. None of these ways are technically multi-line comments, but you can use them as one. The first way is by using '#' at the beginning of each line of the comment. Or you can also use senetence starting and ending with (\"\"\")Quotation. The syntax for writing multi-line comments is:"
   ]
  },
  {
   "cell_type": "code",
   "execution_count": 11,
   "id": "eaa7519d-fc26-42ec-be8d-12de6d020066",
   "metadata": {},
   "outputs": [],
   "source": [
    "\"\"\"example \n",
    "of \n",
    "multi-line \n",
    "comment\"\"\"\n",
    "print(\"I will be Printed only\")"
   ]
  },
  {
   "cell_type": "markdown",
   "id": "256d5876-72fc-4b42-8373-80a800824a7b",
   "metadata": {},
   "source": [
    "## Q2. What are variables in Python? How do you declare and assign values to variables?"
   ]
  },
  {
   "cell_type": "markdown",
   "id": "db8be693-ab8b-4411-a960-7842648198ff",
   "metadata": {},
   "source": [
    "Ans:- In Python, variables are a symbolic name that is a reference or pointer to an object. The variables are used to denote objects by that name. p\n",
    "Python has no command for declaring a variable. A variable is created the moment you first assign a value to it. Variables do not need to be declared with any particular type, and can even change type after they have been set. It automatically check what type of data is given (i.e. int.,str.,float,tuple etc.) and treat according to it.\n",
    "For Example if we give i=12, it identifies it is an interger and store the value of i as an integer."
   ]
  },
  {
   "cell_type": "markdown",
   "id": "dc31a4ec-1a33-46f3-8669-7e2ec4c14e18",
   "metadata": {},
   "source": [
    " ## Q.3 How do you convert one data type to another in Python?"
   ]
  },
  {
   "cell_type": "markdown",
   "id": "c9da8137-cf89-4050-874a-972f49f1e564",
   "metadata": {},
   "source": [
    "The process of converting a Python data type into another data type is known as type conversion. There are mainly two types of type conversion methods in Python, namely, implicit type conversion and explicit type conversion.\n",
    "\n",
    "A). Implicit Type Conversion:\n",
    "\n",
    "Implicit character data conversion is the term used in Python when a data type conversion occurs whether during compilation or even during runtime. We do not need to manually change the file format into some other type of data because Python performs the implicit character data conversion. Throughout the tutorial, we have seen numerous examples of this type of data type conversion.\n",
    "Without user input, the Programming language automatically changes one data type to another in implicit shift of data types.\n",
    "\n",
    "x = 20  \n",
    "print(\"x type:\",type(x)  \n",
    "y = 0.6  \n",
    "print(\"y type:\",type(y))  \n",
    "a = x + y  \n",
    "print(a)  \n",
    "print(\"z type:\",type(z))  \n",
    "Output:\n",
    "\n",
    "x type: <class 'int'>\n",
    "y type: <class 'float' >20.6\n",
    "a type: <class 'float'>\n",
    "\n",
    "As we can see, while one variable, x, is only of integer type and the other, y, is of float type, the data type of \"z\" was automatically transformed to the \"float\" type. Due to type promotion, which enables operations by transforming raw data it in to a wider-sized type of data without any information loss, the float value is instead not turned into an integer. This is a straightforward instance of Python's Implicit type conversion.\n",
    "\n",
    "The result variable was changed into to the float dataset rather than the int data type since doing so would have required the compiler to eliminate the fractional element, which would have resulting in data loss. To prevent data loss, Python always translates smaller data types into larger data types.\n",
    "\n",
    "We may lose the decimal portion of the report if the variable percentage's data type is integer. Python automatically converts percentage data to float type, which can store decimal values, to prevent this data loss.\n",
    "\n",
    "B.) Explicit Type Conversion:\n",
    "\n",
    "Let us say we want to change a number from a higher data type to a lower data type. Implicit type conversion is ineffective in this situation, as we observed in the previous section. Explicit type conversion, commonly referred to as type casting, now steps in to save the day. Using built-in Language functions like str() to convert to string form and int() to convert to integer type, a programmer can explicitly change the data form of an object by changing it manually.\n",
    "\n",
    "The user can explicitly alter the data type in Python's Explicit Type Conversion according to their needs. Since we are compelled to change an expression into a certain data type when doing express type conversion, there is chance of data loss. Here are several examples of explicit type conversion.\n",
    "\n",
    "The function int(a, base) transforms any data type to an integer. If the type of data is a string, \"Base\" defines the base wherein string is.\n",
    "float(): You can turn any data type into a floating-point number with this function.\n",
    "#Python code to show type conversion   \n",
    "#Initializing string with int() and float()  \n",
    "a = \"10010\"  \n",
    "##outputting string to int base 2 conversion.  \n",
    "b = int(a,2)  \n",
    "print (\"following the conversion to integer base 2: \", end=\"\")  \n",
    "print (r)  \n",
    "#printing a float after converting a string  \n",
    "d = float(a)  \n",
    "print (\"After converting to float : \", end=\"\")  \n",
    "print (d)  \n",
    "Output:\n",
    "\n",
    "following the conversion to integer base 2: 18\n",
    "After converting to float : 1010.0\n",
    "3. The ord() method turns a character into an integer.\n",
    "\n",
    "4. The hex() method turns an integer into a hexadecimal string.\n",
    "\n",
    "5. The oct() method turns an integer into an octal string.\n",
    "\n",
    "#Python code to show type conversion  \n",
    " #initialising integer  \n",
    " #using ord(), hex(), and oct()  \n",
    "a = '4'  \n",
    "#printing and converting a character to an integer  \n",
    "b = ord(a)  \n",
    "print (\"After converting character into integer : \",end=\"\")  \n",
    "print (b)  \n",
    "#printing integer converting to hexadecimal string  \n",
    "b = hex(56)  \n",
    "print (\"After converting 56 to hexadecimal string : \",end=\"\")  \n",
    "print (b)  \n",
    "#printing the integer converting into octal string  \n",
    "b = oct(56)  \n",
    "print (\"After converting 56 into octal string : \",end=\"\")  \n",
    "print (b)  \n",
    "Output:\n",
    "\n",
    "After converting the character into integer : 52\n",
    "After converting the 56 to hexadecimal string : 0x38\n",
    "After converting the 56 into octal string : 0o70\n",
    "6. The tuple() method is used to transform data into a tuple.\n",
    "\n",
    "7. The set() function, which converts a type to a set, returns the set.\n",
    "\n",
    "8. The list() function transforms any data type into a list type."
   ]
  },
  {
   "cell_type": "markdown",
   "id": "58a53ccf-aaff-498d-a0e2-d384eb4be353",
   "metadata": {},
   "source": [
    "## Q4. How do you write and execute a Python script from the command line?"
   ]
  },
  {
   "cell_type": "markdown",
   "id": "65f9755e-2ec1-4941-94d0-6a426fc543d8",
   "metadata": {},
   "source": [
    "Ans:- To run Python scripts with the python command, you need to open a command-line and type in the word python, or python3 if you have both versions, followed by the path to your script, just like this:\n",
    "\n",
    "$ python3 hello.py\n",
    "Hello World!\n",
    "\n",
    "If everything works okay, after you press Enter, you’ll see the phrase Hello World! on your screen. "
   ]
  },
  {
   "cell_type": "markdown",
   "id": "bbc65f80-bfc9-4a27-a0a1-1d8df71a755f",
   "metadata": {},
   "source": [
    "## Q5. Given a list my_list = [1, 2, 3, 4, 5], write the code to slice the list and obtain the sub-list [2, 3]?"
   ]
  },
  {
   "cell_type": "code",
   "execution_count": 22,
   "id": "9d405f57-6a1d-4ca8-8f29-6a79615ceb27",
   "metadata": {},
   "outputs": [
    {
     "name": "stdout",
     "output_type": "stream",
     "text": [
      "Sub-list:  [2, 3]\n"
     ]
    }
   ],
   "source": [
    "## Ans:-\n",
    "my_list = [1, 2, 3, 4, 5]\n",
    "\n",
    "print(\"Sub-list: \",my_list[1:3:1])\n"
   ]
  },
  {
   "cell_type": "markdown",
   "id": "466d9b14-fafe-44dc-82ce-aeebfc69f6a1",
   "metadata": {},
   "source": [
    "## Q6. What is a complex number in mathematics, and how is it represented in Python?"
   ]
  },
  {
   "cell_type": "markdown",
   "id": "f966be3c-0847-45cb-80ee-81dd276fb85d",
   "metadata": {},
   "source": [
    "Ans:- In mathematics, a complex number is an element of a number system that extends the real numbers with a specific element denoted i, called the imaginary unit and satisfying the equation i^{2}=-1 every complex number can be expressed in the form a + bi, where a and b are real numbers.\n",
    "\n",
    "The complex number in python programming is a method we can use to convert a string or a number into a complex data type. The complex() method takes two parameters, namely the real and imaginary values. The complex in python uses the provided parameters and returns a complex number.\n",
    "\n",
    "Syntax of complex() in Python-\n",
    "The syntax of the complex in python is straightforward, it takes two parameters(the real value and the imaginary value)\n",
    "\n",
    "complex(real, imaginary)\n",
    "\n",
    "Example of complex() in Python:-\n",
    "\n",
    "1. When both the parameters are provided to the complex() method:\n",
    "real = 10\n",
    "imaginary = 7\n",
    "\n",
    "complex_number = complex(real, imaginary)\n",
    "\n",
    "print(\"Complex number formed: \", complex_number)\n",
    "\n",
    "Output:\n",
    "\n",
    "Complex number formed:  (10+7j)\n",
    "\n",
    "2. When only the first parameter is provided to the complex() method:\n",
    "complex_number = complex('5-7j')\n",
    "\n",
    "print(\"Complex number formed: \", complex_number)\n",
    "\n",
    "Output:\n",
    "\n",
    "Complex number formed:  (5-7j)\n"
   ]
  },
  {
   "cell_type": "markdown",
   "id": "2a5e5af7-af08-453c-baae-da2a1d658995",
   "metadata": {},
   "source": [
    "## Q7. What is the correct way to declare a variable named age and assign the value 25 to it?"
   ]
  },
  {
   "cell_type": "code",
   "execution_count": 5,
   "id": "584afcf1-1e54-43af-aa3b-b2235bc21654",
   "metadata": {},
   "outputs": [
    {
     "name": "stdout",
     "output_type": "stream",
     "text": [
      "25\n"
     ]
    }
   ],
   "source": [
    "##Ans:- Python has no command for declaring a variable.\n",
    "\n",
    "##A variable is created the moment you first assign a value to it.\n",
    "\n",
    "age = 25\n",
    "print(age)"
   ]
  },
  {
   "cell_type": "markdown",
   "id": "1cc2745e-f7d2-4733-b35e-c989fb634d3e",
   "metadata": {},
   "source": [
    "# Q8. Declare a variable named price and assign the value 9.99 to it. What data type does this variable belong to?"
   ]
  },
  {
   "cell_type": "code",
   "execution_count": 6,
   "id": "378b9b6d-4f05-471c-8cf0-b7579cae8e7b",
   "metadata": {},
   "outputs": [
    {
     "data": {
      "text/plain": [
       "float"
      ]
     },
     "execution_count": 6,
     "metadata": {},
     "output_type": "execute_result"
    }
   ],
   "source": [
    "## Ans:- Th data type of price is belong to float. Below is the example that shows it is float type.\n",
    "\n",
    "price=9.99\n",
    "type(price)"
   ]
  },
  {
   "cell_type": "markdown",
   "id": "a703187c-7dec-49d6-a4d1-cb5921a4e4dc",
   "metadata": {},
   "source": [
    "# Q9. Create a variable named name and assign your full name to it as a string. How would you print the value of this variable?\n",
    "\n"
   ]
  },
  {
   "cell_type": "code",
   "execution_count": 8,
   "id": "fec498aa-704c-4a66-b606-4bb36fba546f",
   "metadata": {},
   "outputs": [
    {
     "name": "stdout",
     "output_type": "stream",
     "text": [
      "Shubham Patidar\n"
     ]
    }
   ],
   "source": [
    "## Ans:- \n",
    "name=\"Shubham Patidar\"\n",
    "print(name)"
   ]
  },
  {
   "cell_type": "markdown",
   "id": "1e114df9-5b29-4a03-9ec8-dc080f2152cc",
   "metadata": {},
   "source": [
    "# Q10. Given the string \"Hello, World!\", extract the substring \"World\"."
   ]
  },
  {
   "cell_type": "code",
   "execution_count": 21,
   "id": "8968f3e6-dd84-46e5-817a-74d5d7e91740",
   "metadata": {},
   "outputs": [
    {
     "data": {
      "text/plain": [
       "'World'"
      ]
     },
     "execution_count": 21,
     "metadata": {},
     "output_type": "execute_result"
    }
   ],
   "source": [
    "## Ans:-\n",
    "str_1=\"Hello, World!\"\n",
    "str_1[7:12:1]"
   ]
  },
  {
   "cell_type": "markdown",
   "id": "a69b7636-ca00-4fae-b3d8-ca958d0179b6",
   "metadata": {},
   "source": [
    "# Q11. Create a variable named \"is_student\" and assign it a boolean value indicating whether you are currently a student or not."
   ]
  },
  {
   "cell_type": "code",
   "execution_count": 20,
   "id": "ef1651ec-7730-4246-a3b1-502c4396616a",
   "metadata": {},
   "outputs": [
    {
     "name": "stdout",
     "output_type": "stream",
     "text": [
      "True\n"
     ]
    }
   ],
   "source": [
    "## Ans:- \n",
    "is_student=True\n",
    "print(is_student)"
   ]
  },
  {
   "cell_type": "code",
   "execution_count": null,
   "id": "5ae50029-25bf-494b-960d-b96ae9ce4b0b",
   "metadata": {},
   "outputs": [],
   "source": []
  }
 ],
 "metadata": {
  "kernelspec": {
   "display_name": "Python 3 (ipykernel)",
   "language": "python",
   "name": "python3"
  },
  "language_info": {
   "codemirror_mode": {
    "name": "ipython",
    "version": 3
   },
   "file_extension": ".py",
   "mimetype": "text/x-python",
   "name": "python",
   "nbconvert_exporter": "python",
   "pygments_lexer": "ipython3",
   "version": "3.10.8"
  }
 },
 "nbformat": 4,
 "nbformat_minor": 5
}
